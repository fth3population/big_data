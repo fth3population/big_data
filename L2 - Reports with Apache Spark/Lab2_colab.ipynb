{
  "cells": [
    {
      "cell_type": "code",
      "execution_count": 13,
      "metadata": {
        "id": "01eVMWY4hjav"
      },
      "outputs": [],
      "source": [
        "from pyspark import SparkContext, SparkConf\n",
        "from datetime import datetime\n",
        "from pyspark.sql import SparkSession\n",
        "import pyspark.sql.functions as F\n",
        "from pyspark.sql import Row\n",
        "\n",
        "from typing import NamedTuple\n",
        "import pandas as pd\n",
        "import os\n",
        "import sys\n",
        "import numpy as np\n",
        "from os import environ\n",
        "environ['PYSPARK_SUBMIT_ARGS'] = '--packages com.databricks:spark-xml_2.12:0.17.0 pyspark-shell'"
      ]
    },
    {
      "cell_type": "code",
      "execution_count": null,
      "metadata": {
        "id": "m12pc3TVjR1h"
      },
      "outputs": [],
      "source": [
        "from google.colab import drive\n",
        "drive.mount('/content/drive')"
      ]
    },
    {
      "cell_type": "code",
      "execution_count": null,
      "metadata": {
        "colab": {
          "base_uri": "https://localhost:8080/",
          "height": 219
        },
        "id": "28-CcXBmhjaw",
        "outputId": "72d6e51e-f020-4249-e19d-6f0193be861b"
      },
      "outputs": [
        {
          "data": {
            "text/html": [
              "\n",
              "            <div>\n",
              "                <p><b>SparkSession - in-memory</b></p>\n",
              "                \n",
              "        <div>\n",
              "            <p><b>SparkContext</b></p>\n",
              "\n",
              "            <p><a href=\"http://a82b3df1cd75:4040\">Spark UI</a></p>\n",
              "\n",
              "            <dl>\n",
              "              <dt>Version</dt>\n",
              "                <dd><code>v3.5.1</code></dd>\n",
              "              <dt>Master</dt>\n",
              "                <dd><code>local[*]</code></dd>\n",
              "              <dt>AppName</dt>\n",
              "                <dd><code>pyspark-shell</code></dd>\n",
              "            </dl>\n",
              "        </div>\n",
              "        \n",
              "            </div>\n",
              "        "
            ],
            "text/plain": [
              "<pyspark.sql.session.SparkSession at 0x7f826741dcf0>"
            ]
          },
          "execution_count": 4,
          "metadata": {},
          "output_type": "execute_result"
        }
      ],
      "source": [
        "spark = SparkSession.builder.getOrCreate()\n",
        "spark"
      ]
    },
    {
      "cell_type": "markdown",
      "metadata": {
        "id": "M9sixm84hjaw"
      },
      "source": [
        "### 1. Сформировать отчёт с информацией о 10 наиболее популярных языках программирования по итогам года за период с 2010 по 2020 годы. Отчёт будет отражать динамику изменения популярности языков программирования и представлять собой набор таблиц \"топ-10\" для каждого года."
      ]
    },
    {
      "cell_type": "code",
      "execution_count": 6,
      "metadata": {
        "id": "HbzZ4qjjhjax"
      },
      "outputs": [],
      "source": [
        "posts_sample = spark.read.format('xml').option('rowTag', 'row').load(\"posts_sample.xml\")"
      ]
    },
    {
      "cell_type": "code",
      "execution_count": 7,
      "metadata": {
        "colab": {
          "base_uri": "https://localhost:8080/"
        },
        "id": "WVant9Gaju2J",
        "outputId": "71920186-82bc-4a19-e70f-8a68d0340795"
      },
      "outputs": [
        {
          "name": "stdout",
          "output_type": "stream",
          "text": [
            "-RECORD 0--------------------------------------\n",
            " _AcceptedAnswerId      | 7                    \n",
            " _AnswerCount           | 13                   \n",
            " _Body                  | <p>I want to use ... \n",
            " _ClosedDate            | NULL                 \n",
            " _CommentCount          | 2                    \n",
            " _CommunityOwnedDate    | 2012-10-31 16:42:... \n",
            " _CreationDate          | 2008-07-31 21:42:... \n",
            " _FavoriteCount         | 48                   \n",
            " _Id                    | 4                    \n",
            " _LastActivityDate      | 2019-07-19 01:39:... \n",
            " _LastEditDate          | 2019-07-19 01:39:... \n",
            " _LastEditorDisplayName | Rich B               \n",
            " _LastEditorUserId      | 3641067              \n",
            " _OwnerDisplayName      | NULL                 \n",
            " _OwnerUserId           | 8                    \n",
            " _ParentId              | NULL                 \n",
            " _PostTypeId            | 1                    \n",
            " _Score                 | 630                  \n",
            " _Tags                  | <c#><floating-poi... \n",
            " _Title                 | Convert Decimal t... \n",
            " _ViewCount             | 42817                \n",
            "only showing top 1 row\n",
            "\n"
          ]
        }
      ],
      "source": [
        "posts_sample.show(1, vertical=True)"
      ]
    },
    {
      "cell_type": "code",
      "execution_count": 9,
      "metadata": {
        "colab": {
          "base_uri": "https://localhost:8080/"
        },
        "id": "iGqGF-hojxR5",
        "outputId": "5547ef6d-94e4-4935-c97e-720a1843b169"
      },
      "outputs": [
        {
          "data": {
            "text/plain": [
              "14428"
            ]
          },
          "execution_count": 9,
          "metadata": {},
          "output_type": "execute_result"
        }
      ],
      "source": [
        "posts_sample.count()"
      ]
    },
    {
      "cell_type": "code",
      "execution_count": 16,
      "metadata": {
        "colab": {
          "base_uri": "https://localhost:8080/"
        },
        "id": "xMfwZ2dLkIfQ",
        "outputId": "45a48d81-072b-4647-c7b2-c7b4210a0cb7"
      },
      "outputs": [
        {
          "name": "stdout",
          "output_type": "stream",
          "text": [
            "+-----------------+------------+--------------------+-----------+-------------+--------------------+--------------------+--------------+-------+--------------------+--------------------+----------------------+-----------------+-----------------+------------+---------+-----------+------+-----+------+----------+\n",
            "|_AcceptedAnswerId|_AnswerCount|               _Body|_ClosedDate|_CommentCount| _CommunityOwnedDate|       _CreationDate|_FavoriteCount|    _Id|   _LastActivityDate|       _LastEditDate|_LastEditorDisplayName|_LastEditorUserId|_OwnerDisplayName|_OwnerUserId|_ParentId|_PostTypeId|_Score|_Tags|_Title|_ViewCount|\n",
            "+-----------------+------------+--------------------+-----------+-------------+--------------------+--------------------+--------------+-------+--------------------+--------------------+----------------------+-----------------+-----------------+------------+---------+-----------+------+-----+------+----------+\n",
            "|             NULL|        NULL|<p>No. (And more ...|       NULL|            6|                NULL|2010-09-20 16:18:...|          NULL|3753373|2010-09-20 16:18:...|                NULL|                  NULL|             NULL|             NULL|       10293|  3753364|          2|    13| NULL|  NULL|      NULL|\n",
            "|             NULL|        NULL|<p>I am not aware...|       NULL|            2|                NULL|2010-09-20 18:36:...|          NULL|3754384|2010-09-20 18:43:...|2010-09-20 18:43:...|                  NULL|           140185|             NULL|      140185|  3754279|          2|     2| NULL|  NULL|      NULL|\n",
            "|             NULL|        NULL|<p>If you want a ...|       NULL|            2|                NULL|2010-09-20 19:04:...|          NULL|3754601|2010-09-20 19:04:...|                NULL|                  NULL|             NULL|             NULL|        7280|  3754553|          2|     1| NULL|  NULL|      NULL|\n",
            "|             NULL|        NULL|<p>The very first...|       NULL|            0|                NULL|2010-09-21 02:07:...|          NULL|3756831|2010-09-21 02:07:...|                NULL|                  NULL|             NULL|             NULL|      349130|  3756770|          2|     9| NULL|  NULL|      NULL|\n",
            "|             NULL|        NULL|<p>It seems to me...|       NULL|            3|                NULL|2010-09-21 07:33:...|          NULL|3758183|2010-09-21 07:33:...|                NULL|                  NULL|             NULL|             NULL|       15168|  3754526|          2|     0| NULL|  NULL|      NULL|\n",
            "|             NULL|        NULL|<p>In Django orig...|       NULL|            3|2010-09-21 11:46:...|2010-09-21 11:46:...|          NULL|3759958|2010-09-21 13:40:...|2010-09-21 13:40:...|                  NULL|           377095|             NULL|      377095|  3759524|          2|     1| NULL|  NULL|      NULL|\n",
            "|             NULL|        NULL|<p>You can't. Mic...|       NULL|            0|                NULL|2010-09-21 12:07:...|          NULL|3760101|2010-09-21 12:07:...|                NULL|                  NULL|             NULL|             NULL|      155641|  3760066|          2|     1| NULL|  NULL|      NULL|\n",
            "|             NULL|        NULL|<p>I don't know, ...|       NULL|            0|                NULL|2010-09-21 13:16:...|          NULL|3760630|2010-09-21 13:16:...|                NULL|                  NULL|             NULL|             NULL|      417143|  2739558|          2|     0| NULL|  NULL|      NULL|\n",
            "|             NULL|        NULL|<p>You can't unle...|       NULL|            2|                NULL|2010-09-21 15:09:...|          NULL|3761678|2010-09-21 15:09:...|                NULL|                  NULL|             NULL|             NULL|       77409|  3761429|          2|     2| NULL|  NULL|      NULL|\n",
            "|             NULL|        NULL|<p>Assume your se...|       NULL|            0|                NULL|2010-09-21 16:22:...|          NULL|3762339|2010-09-21 16:22:...|                NULL|                  NULL|             NULL|             NULL|        4280|  3761757|          2|     0| NULL|  NULL|      NULL|\n",
            "|             NULL|        NULL|<p>You can use th...|       NULL|            0|                NULL|2010-09-21 18:27:...|          NULL|3763289|2013-06-07 05:57:...|2013-06-07 05:57:...|                  NULL|          1083859|             NULL|      413594|  3761292|          2|     3| NULL|  NULL|      NULL|\n",
            "|             NULL|        NULL|<p>You can <a hre...|       NULL|            3|                NULL|2010-09-21 19:36:...|          NULL|3763797|2010-09-21 19:36:...|                NULL|                  NULL|             NULL|             NULL|       15639|  3754233|          2|    -1| NULL|  NULL|      NULL|\n",
            "|             NULL|        NULL|<p>Missing a coup...|       NULL|            3|                NULL|2010-09-21 22:26:...|          NULL|3764959|2010-09-21 22:33:...|2010-09-21 22:33:...|                  NULL|            75642|             NULL|       29411|  3764878|          2|     1| NULL|  NULL|      NULL|\n",
            "|             NULL|        NULL|<p>Checking the s...|       NULL|            1|                NULL|2010-09-22 03:05:...|          NULL|3766041|2010-09-22 03:11:...|2010-09-22 03:11:...|                  NULL|           365526|             NULL|      365526|  3765865|          2|     3| NULL|  NULL|      NULL|\n",
            "|             NULL|        NULL|<p>Yes.</p>\\n\\n<p...|       NULL|            0|                NULL|2010-09-22 05:11:...|          NULL|3766485|2010-09-22 05:11:...|                NULL|                  NULL|             NULL|             NULL|        2788|  3766437|          2|     0| NULL|  NULL|      NULL|\n",
            "+-----------------+------------+--------------------+-----------+-------------+--------------------+--------------------+--------------+-------+--------------------+--------------------+----------------------+-----------------+-----------------+------------+---------+-----------+------+-----+------+----------+\n",
            "only showing top 15 rows\n",
            "\n"
          ]
        }
      ],
      "source": [
        "dates = (\"2010-01-01\",  \"2020-12-31\")\n",
        "posts_by_period = posts_sample.filter(F.col('_CreationDate').between(*dates))\n",
        "posts_by_period.show(15)\n"
      ]
    },
    {
      "cell_type": "code",
      "execution_count": 18,
      "metadata": {
        "id": "7Po7J0vOlG5I"
      },
      "outputs": [],
      "source": [
        "programming_languages = spark.read.format('csv').option('header', 'true').option(\"inferSchema\", True).load(\"programming-languages.csv\").dropna()"
      ]
    },
    {
      "cell_type": "code",
      "execution_count": 19,
      "metadata": {
        "colab": {
          "base_uri": "https://localhost:8080/"
        },
        "id": "YNv8LtFtloLx",
        "outputId": "cd48f626-b0ad-4c5e-d1a0-9e0a78eda015"
      },
      "outputs": [
        {
          "name": "stdout",
          "output_type": "stream",
          "text": [
            "-RECORD 0-----------------------------\n",
            " name          | A# .NET              \n",
            " wikipedia_url | https://en.wikipe... \n",
            "only showing top 1 row\n",
            "\n"
          ]
        }
      ],
      "source": [
        "programming_languages.show(1, vertical=True)"
      ]
    },
    {
      "cell_type": "code",
      "execution_count": 20,
      "metadata": {
        "colab": {
          "base_uri": "https://localhost:8080/"
        },
        "id": "VUxtITUdlo3d",
        "outputId": "6546066b-427f-48f6-f6bf-674439d73c19"
      },
      "outputs": [
        {
          "data": {
            "text/plain": [
              "699"
            ]
          },
          "execution_count": 20,
          "metadata": {},
          "output_type": "execute_result"
        }
      ],
      "source": [
        "programming_languages.count()"
      ]
    },
    {
      "cell_type": "code",
      "execution_count": 22,
      "metadata": {
        "colab": {
          "base_uri": "https://localhost:8080/"
        },
        "id": "ReCwG0Ryl1w_",
        "outputId": "292b26e7-80e6-4b7f-8921-9096ddb9e35b"
      },
      "outputs": [
        {
          "name": "stdout",
          "output_type": "stream",
          "text": [
            "['A# .NET', 'A# (Axiom)', 'A-0 System', 'A+', 'A++', 'ABAP', 'ABC', 'ABC ALGOL', 'ABSET', 'ABSYS', 'ACC', 'Accent', 'Ace DASL', 'ACL2', 'ACT-III', 'Action!', 'ActionScript', 'Ada', 'Adenine', 'Agda', 'Agilent VEE', 'Agora', 'AIMMS', 'Alef', 'ALF', 'ALGOL 58', 'ALGOL 60', 'ALGOL 68', 'ALGOL W', 'Alice', 'Alma-0', 'AmbientTalk', 'Amiga E', 'AMOS', 'AMPL', 'Apex (Salesforce.com)', 'APL', \"App Inventor for Android's visual block language\", 'AppleScript', 'Arc', 'ARexx', 'Argus', 'AspectJ', 'Assembly language', 'ATS', 'Ateji PX', 'AutoHotkey', 'Autocoder', 'AutoIt', 'AutoLISP / Visual LISP', 'Averest', 'AWK', 'Axum', 'B', 'Babbage', 'Bash', 'BASIC', 'bc', 'BCPL', 'BeanShell', 'Batch (Windows/Dos)', 'Bertrand', 'BETA', 'Bigwig', 'Bistro', 'BitC', 'BLISS', 'Blockly', 'BlooP', 'Blue', 'Boo', 'Boomerang', 'Bourne shell (including', 'bash and', 'ksh )', 'BREW', 'BPEL', 'C', 'C--', 'C++ – ISO/IEC 14882', 'C# – ISO/IEC 23270', 'C/AL', 'Caché ObjectScript', 'C Shell', 'Caml', 'Cayenne', 'CDuce', 'Cecil', 'Cel', 'Cesil', 'Ceylon', 'CFEngine', 'CFML', 'Cg', 'Ch', 'Chapel', 'CHAIN', 'Charity', 'Charm', 'Chef', 'CHILL', 'CHIP-8', 'chomski', 'ChucK', 'CICS', 'Cilk', 'Citrine (programming language)', 'CL (IBM)', 'Claire', 'Clarion', 'Clean', 'Clipper', 'CLIST', 'Clojure', 'CLU', 'CMS-2', 'COBOL – ISO/IEC 1989', 'Cobra', 'CODE', 'CoffeeScript', 'ColdFusion', 'COMAL', 'Combined Programming Language (CPL)', 'COMIT', 'Common Intermediate Language (CIL)', 'Common Lisp (also known as CL)', 'COMPASS', 'Component Pascal', 'Constraint Handling Rules (CHR)', 'Converge', 'Cool', 'Coq', 'Coral 66', 'Corn', 'CorVision', 'COWSEL', 'CPL', 'Cryptol', 'csh', 'Csound', 'CSP', 'CUDA', 'Curl', 'Curry', 'Cyclone', 'Cython', 'D', \"DASL (Datapoint's Advanced Systems Language)\", 'DASL (Distributed Application Specification Language)', 'Dart', 'DataFlex', 'Datalog', 'DATATRIEVE', 'dBase', 'dc', 'DCL', 'Deesel (formerly G)', 'Delphi', 'DinkC', 'DIBOL', 'Dog', 'Draco', 'DRAKON', 'Dylan', 'DYNAMO', 'E', 'E#', 'Ease', 'Easy PL/I', 'Easy Programming Language', 'EASYTRIEVE PLUS', 'ECMAScript', 'Edinburgh IMP', 'EGL', 'Eiffel', 'ELAN', 'Elixir', 'Elm', 'Emacs Lisp', 'Emerald', 'Epigram', 'EPL', 'Erlang', 'es', 'Escher', 'ESPOL', 'Esterel', 'Etoys', 'Euclid', 'Euler', 'Euphoria', 'EusLisp Robot Programming Language', 'CMS EXEC (EXEC)', 'EXEC 2', 'Executable UML', 'F', 'F#', 'Factor', 'Falcon', 'Fantom', 'FAUST', 'FFP', 'Fjölnir', 'FL', 'Flavors', 'Flex', 'FlooP', 'FLOW-MATIC', 'FOCAL', 'FOCUS', 'FOIL', 'FORMAC', '@Formula', 'Forth', 'Fortran – ISO/IEC 1539', 'Fortress', 'FoxBase', 'FoxPro', 'FP', 'FPr', 'Franz Lisp', 'Frege', 'F-Script', 'G', 'Game Maker Language', 'GameMonkey Script', 'GAMS', 'GAP', 'G-code', 'Genie', 'GDL', 'GJ', 'GEORGE', 'GLSL', 'GNU E', 'GM', 'Go', 'Go!', 'GOAL', 'Gödel', 'Godiva', 'Golo', 'GOM (Good Old Mad)', 'Google Apps Script', 'Gosu', 'GOTRAN', 'GPSS', 'GraphTalk', 'GRASS', 'Groovy', 'Hack', 'HAL/S', 'Hamilton C shell', 'Harbour', 'Hartmann pipelines', 'Haskell', 'Haxe', 'High Level Assembly', 'HLSL', 'Hop', 'Hopscotch', 'Hope', 'Hugo', 'Hume', 'HyperTalk', 'IBM Basic assembly language', 'IBM HAScript', 'IBM Informix-4GL', 'IBM RPG', 'ICI', 'Icon', 'Id', 'IDL', 'Idris', 'IMP', 'Inform', 'Io', 'Ioke', 'IPL', 'IPTSCRAE', 'ISLISP', 'ISPF', 'ISWIM', 'J', 'J#', 'J++', 'JADE', 'Jako', 'JAL', 'Janus (concurrent constraint programming language)', 'Janus (time-reversible computing programming language)', 'JASS', 'Java', 'JavaScript', 'JCL', 'JEAN', 'Join Java', 'JOSS', 'Joule', 'JOVIAL', 'Joy', 'JScript', 'JScript .NET', 'JavaFX Script', 'Julia', 'Jython', 'K', 'Kaleidoscope', 'Karel', 'Karel++', 'KEE', 'Kixtart', 'Klerer-May System', 'KIF', 'Kojo', 'Kotlin', 'KRC', 'KRL', 'KUKA Robot Language)', 'KRYPTON', 'ksh', 'L', 'L# .NET', 'LabVIEW', 'Ladder', 'Lagoona', 'LANSA', 'Lasso', 'LaTeX', 'Lava', 'LC-3', 'Leda', 'Legoscript', 'LIL', 'LilyPond', 'Limbo', 'Limnor', 'LINC', 'Lingo', 'LIS', 'LISA', 'Lisaac', 'Lisp – ISO/IEC 13816', 'Lite-C', 'Lithe', 'Little b', 'Logo', 'Logtalk', 'LotusScript', 'LPC', 'LSE', 'LSL', 'LiveCode', 'LiveScript', 'Lua', 'Lucid', 'Lustre', 'LYaPAS', 'Lynx', 'M2001', 'M4', 'M#', 'Machine code', 'MAD (Michigan Algorithm Decoder)', 'MAD/I', 'Magik', 'Magma', 'make', 'Maple', 'MAPPER now part of BIS', 'MARK-IV now VISION:BUILDER', 'Mary', 'MASM Microsoft Assembly x86', 'MATH-MATIC', 'Mathematica', 'MATLAB', 'Maxima (see also', 'Macsyma )', 'Max (Max Msp – Graphical Programming Environment)', 'MaxScript internal language 3D Studio Max', 'Maya (MEL)', 'MDL', 'Mercury', 'Mesa', 'Metacard', 'Metafont', 'Microcode', 'MicroScript', 'MIIS', 'MillScript', 'MIMIC', 'Mirah', 'Miranda', 'MIVA Script', 'ML', 'Moby', 'Model 204', 'Modelica', 'Modula', 'Modula-2', 'Modula-3', 'Mohol', 'MOO', 'Mortran', 'Mouse', 'MPD', 'CIL', 'MSL', 'MUMPS', 'Mystic Programming Language (MPL)', 'NASM', 'Napier88', 'Neko', 'Nemerle', 'nesC', 'NESL', 'Net.Data', 'NetLogo', 'NetRexx', 'NewLISP', 'NEWP', 'Newspeak', 'NewtonScript', 'NGL', 'Nial', 'Nice', 'Nickle', 'Nim', 'NPL', 'Not eXactly C (NXC)', 'Not Quite C (NQC)', 'NSIS', 'Nu', 'NWScript', 'NXT-G', 'o:XML', 'Oak', 'Oberon', 'OBJ2', 'Object Lisp', 'ObjectLOGO', 'Object REXX', 'Object Pascal', 'Objective-C', 'Objective-J', 'Obliq', 'OCaml', 'occam', 'occam-π', 'Octave', 'OmniMark', 'Onyx', 'Opa', 'Opal', 'OpenCL', 'OpenEdge ABL', 'OPL', 'OPS5', 'OptimJ', 'Orc', 'ORCA/Modula-2', 'Oriel', 'Orwell', 'Oxygene', 'Oz', 'P′′', 'P#', 'ParaSail (programming language)', 'PARI/GP', 'Pascal – ISO 7185', 'PCASTL', 'PCF', 'PEARL', 'PeopleCode', 'Perl', 'PDL', 'Perl6', 'Pharo', 'PHP', 'Phrogram', 'Pico', 'Picolisp', 'Pict', 'Pike', 'PIKT', 'PILOT', 'Pipelines', 'Pizza', 'PL-11', 'PL/0', 'PL/B', 'PL/C', 'PL/I – ISO 6160', 'PL/M', 'PL/P', 'PL/SQL', 'PL360', 'PLANC', 'Plankalkül', 'Planner', 'PLEX', 'PLEXIL', 'Plus', 'POP-11', 'PostScript', 'PortablE', 'Powerhouse', 'PowerBuilder – 4GL GUI applcation generator from Sybase', 'PowerShell', 'PPL', 'Processing', 'Processing.js', 'Prograph', 'PROIV', 'Prolog', 'PROMAL', 'Promela', 'PROSE modeling language', 'PROTEL', 'ProvideX', 'Pro*C', 'Pure', 'Python', 'Q (equational programming language)', 'Q (programming language from Kx Systems)', 'Qalb', 'QtScript', 'QuakeC', 'QPL', 'R', 'R++', 'Racket', 'RAPID', 'Rapira', 'Ratfiv', 'Ratfor', 'rc', 'REBOL', 'Red', 'Redcode', 'REFAL', 'Reia', 'Revolution', 'REXX', 'Rlab', 'ROOP', 'RPG', 'RPL', 'RSL', 'RTL/2', 'Ruby', 'RuneScript', 'Rust', 'S', 'S2', 'S3', 'S-Lang', 'S-PLUS', 'SA-C', 'SabreTalk', 'SAIL', 'SALSA', 'SAM76', 'SAS', 'SASL', 'Sather', 'Sawzall', 'SBL', 'Scala', 'Scheme', 'Scilab', 'Scratch', 'Script.NET', 'Sed', 'Seed7', 'Self', 'SenseTalk', 'SequenceL', 'SETL', 'SIMPOL', 'SIGNAL', 'SiMPLE', 'SIMSCRIPT', 'Simula', 'Simulink', 'SISAL', 'SLIP', 'SMALL', 'Smalltalk', 'Small Basic', 'SML', 'Snap!', 'SNOBOL (', 'SPITBOL )', 'Snowball', 'SOL', 'Span', 'SPARK', 'Speedcode', 'SPIN', 'SP/k', 'SPS', 'SQR', 'Squeak', 'Squirrel', 'SR', 'S/SL', 'Stackless Python', 'Starlogo', 'Strand', 'Stata', 'Stateflow', 'Subtext', 'SuperCollider', 'SuperTalk', 'Swift (Apple programming language)', 'Swift (parallel scripting language)', 'SYMPL', 'SyncCharts', 'SystemVerilog', 'T', 'TACL', 'TACPOL', 'TADS', 'TAL', 'Tcl', 'Tea', 'TECO', 'TELCOMP', 'TeX', 'TEX', 'TIE', 'Timber', 'TMG , compiler-compiler', 'Tom', 'TOM', 'TouchDevelop', 'Topspeed', 'TPU', 'Trac', 'TTM', 'T-SQL', 'TTCN', 'Turing', 'TUTOR', 'TXL', 'TypeScript', 'Turbo C++', 'Ubercode', 'UCSD Pascal', 'Umple', 'Unicon', 'Uniface', 'UNITY', 'Unix shell', 'UnrealScript', 'Vala', 'Visual DataFlex', 'Visual DialogScript', 'Visual Fortran', 'Visual FoxPro', 'Visual J++', 'Visual J#', 'Visual Objects', 'Visual Prolog', 'VSXu', 'vvvv', 'WATFIV, WATFOR', 'WebDNA', 'WebQL', 'Whiley', 'Windows PowerShell', 'Winbatch', 'Wolfram Language', 'Wyvern', 'X++', 'X#', 'X10', 'XBL', 'XC (exploits', 'XMOS architecture )', 'xHarbour', 'XL', 'Xojo', 'XOTcl', 'XPL', 'XPL0', 'XQuery', 'XSB', 'XSLT – see', 'XPath', 'Xtend', 'Yorick', 'YQL', 'Z notation', 'Zeno', 'ZOPL', 'Zsh', 'ZPL']\n"
          ]
        }
      ],
      "source": [
        "languages = [language.name for language in programming_languages.collect()]\n",
        "print(languages)"
      ]
    },
    {
      "cell_type": "code",
      "execution_count": 39,
      "metadata": {
        "id": "o4DnLzWBmIKx"
      },
      "outputs": [],
      "source": [
        "def is_tag_in_post(post):\n",
        "  tag = None\n",
        "  for language in languages:\n",
        "    language_tag = '<' + language.lower() + '>'\n",
        "    if language_tag in str(post._Tags).lower():\n",
        "      tag = language\n",
        "      break\n",
        "  return (post._CreationDate, tag)"
      ]
    },
    {
      "cell_type": "code",
      "execution_count": 40,
      "metadata": {
        "id": "-hRx6miind9x"
      },
      "outputs": [],
      "source": [
        "post_tag_date = posts_by_period.rdd.map(is_tag_in_post).filter(lambda x: x[1] != None)"
      ]
    },
    {
      "cell_type": "code",
      "execution_count": 43,
      "metadata": {
        "id": "RkAGMWjcnrYT"
      },
      "outputs": [],
      "source": [
        "posts_language_year = (\n",
        "    post_tag_date\n",
        "    .keyBy(lambda row: (row[0].year, row[1]))\n",
        "    .aggregateByKey(0, lambda x, y: x + 1, lambda x1, x2: x1 + x2)\n",
        "    .sortBy(lambda x: x[1], ascending=False)\n",
        "    .collect())"
      ]
    },
    {
      "cell_type": "code",
      "execution_count": 44,
      "metadata": {
        "colab": {
          "base_uri": "https://localhost:8080/"
        },
        "id": "u9_zixrloLWk",
        "outputId": "d03f044a-5491-46c2-c4a4-e64bcd1124dd"
      },
      "outputs": [
        {
          "data": {
            "text/plain": [
              "[((2016, 'JavaScript'), 272),\n",
              " ((2015, 'JavaScript'), 270),\n",
              " ((2017, 'JavaScript'), 244),\n",
              " ((2014, 'JavaScript'), 235),\n",
              " ((2014, 'Java'), 228),\n",
              " ((2018, 'Python'), 214),\n",
              " ((2015, 'Java'), 208),\n",
              " ((2017, 'Java'), 204),\n",
              " ((2013, 'JavaScript'), 196),\n",
              " ((2018, 'JavaScript'), 196),\n",
              " ((2013, 'Java'), 191),\n",
              " ((2017, 'Python'), 185),\n",
              " ((2016, 'Java'), 179),\n",
              " ((2013, 'PHP'), 173),\n",
              " ((2019, 'Python'), 162),\n",
              " ((2014, 'PHP'), 154),\n",
              " ((2015, 'PHP'), 147),\n",
              " ((2018, 'Java'), 145),\n",
              " ((2016, 'Python'), 141),\n",
              " ((2012, 'PHP'), 136),\n",
              " ((2019, 'JavaScript'), 131),\n",
              " ((2012, 'JavaScript'), 129),\n",
              " ((2016, 'PHP'), 126),\n",
              " ((2012, 'Java'), 124),\n",
              " ((2017, 'PHP'), 122),\n",
              " ((2015, 'Python'), 119),\n",
              " ((2014, 'Python'), 103),\n",
              " ((2018, 'PHP'), 99),\n",
              " ((2011, 'PHP'), 97),\n",
              " ((2019, 'Java'), 95),\n",
              " ((2011, 'Java'), 92),\n",
              " ((2013, 'Python'), 87),\n",
              " ((2011, 'JavaScript'), 82),\n",
              " ((2012, 'Python'), 65),\n",
              " ((2018, 'R'), 63),\n",
              " ((2019, 'PHP'), 59),\n",
              " ((2017, 'R'), 53),\n",
              " ((2014, 'C'), 52),\n",
              " ((2010, 'Java'), 52),\n",
              " ((2016, 'R'), 50),\n",
              " ((2014, 'Objective-C'), 49),\n",
              " ((2012, 'Objective-C'), 45),\n",
              " ((2010, 'JavaScript'), 44),\n",
              " ((2015, 'R'), 43),\n",
              " ((2010, 'PHP'), 42),\n",
              " ((2013, 'Objective-C'), 40),\n",
              " ((2015, 'C'), 38),\n",
              " ((2013, 'C'), 36),\n",
              " ((2019, 'R'), 36),\n",
              " ((2011, 'Python'), 35),\n",
              " ((2011, 'Objective-C'), 33),\n",
              " ((2016, 'C'), 32),\n",
              " ((2013, 'Ruby'), 30),\n",
              " ((2015, 'Objective-C'), 30),\n",
              " ((2014, 'R'), 28),\n",
              " ((2012, 'C'), 27),\n",
              " ((2010, 'Python'), 25),\n",
              " ((2012, 'Ruby'), 25),\n",
              " ((2013, 'R'), 25),\n",
              " ((2018, 'C'), 24),\n",
              " ((2011, 'C'), 24),\n",
              " ((2017, 'C'), 24),\n",
              " ((2010, 'Objective-C'), 23),\n",
              " ((2018, 'Scala'), 22),\n",
              " ((2015, 'Ruby'), 21),\n",
              " ((2016, 'Ruby'), 21),\n",
              " ((2018, 'TypeScript'), 21),\n",
              " ((2014, 'Ruby'), 20),\n",
              " ((2010, 'C'), 20),\n",
              " ((2017, 'Objective-C'), 19),\n",
              " ((2011, 'Ruby'), 17),\n",
              " ((2016, 'Scala'), 16),\n",
              " ((2014, 'MATLAB'), 16),\n",
              " ((2015, 'MATLAB'), 16),\n",
              " ((2016, 'Bash'), 16),\n",
              " ((2017, 'Ruby'), 16),\n",
              " ((2016, 'MATLAB'), 15),\n",
              " ((2017, 'PowerShell'), 14),\n",
              " ((2017, 'TypeScript'), 14),\n",
              " ((2019, 'C'), 14),\n",
              " ((2015, 'Scala'), 13),\n",
              " ((2018, 'PowerShell'), 13),\n",
              " ((2017, 'Bash'), 13),\n",
              " ((2014, 'Bash'), 13),\n",
              " ((2016, 'Objective-C'), 12),\n",
              " ((2018, 'Bash'), 12),\n",
              " ((2016, 'PowerShell'), 11),\n",
              " ((2013, 'Bash'), 11),\n",
              " ((2010, 'Ruby'), 11),\n",
              " ((2015, 'Bash'), 11),\n",
              " ((2018, 'Go'), 11),\n",
              " ((2013, 'Scala'), 10),\n",
              " ((2018, 'Objective-C'), 10),\n",
              " ((2019, 'Go'), 9),\n",
              " ((2012, 'Bash'), 9),\n",
              " ((2019, 'Dart'), 9),\n",
              " ((2018, 'Ruby'), 9),\n",
              " ((2014, 'Perl'), 9),\n",
              " ((2017, 'Scala'), 9),\n",
              " ((2016, 'Go'), 9),\n",
              " ((2019, 'MATLAB'), 9),\n",
              " ((2012, 'R'), 9),\n",
              " ((2013, 'Perl'), 8),\n",
              " ((2016, 'TypeScript'), 8),\n",
              " ((2019, 'Ruby'), 8),\n",
              " ((2013, 'MATLAB'), 8),\n",
              " ((2011, 'Delphi'), 8),\n",
              " ((2019, 'PowerShell'), 8),\n",
              " ((2011, 'Perl'), 8),\n",
              " ((2019, 'Bash'), 8),\n",
              " ((2019, 'Kotlin'), 8),\n",
              " ((2016, 'AWK'), 7),\n",
              " ((2010, 'Delphi'), 7),\n",
              " ((2017, 'MATLAB'), 7),\n",
              " ((2011, 'Bash'), 7),\n",
              " ((2018, 'Kotlin'), 7),\n",
              " ((2013, 'Delphi'), 7),\n",
              " ((2014, 'Scala'), 7),\n",
              " ((2017, 'Haskell'), 7),\n",
              " ((2014, 'PowerShell'), 7),\n",
              " ((2019, 'Scala'), 6),\n",
              " ((2015, 'PowerShell'), 6),\n",
              " ((2015, 'Delphi'), 6),\n",
              " ((2013, 'PowerShell'), 6),\n",
              " ((2012, 'MATLAB'), 6),\n",
              " ((2013, 'F#'), 6),\n",
              " ((2017, 'Perl'), 6),\n",
              " ((2012, 'Lua'), 6),\n",
              " ((2013, 'Go'), 6),\n",
              " ((2019, 'TypeScript'), 6),\n",
              " ((2012, 'Scala'), 6),\n",
              " ((2018, 'Rust'), 6),\n",
              " ((2014, 'AWK'), 5),\n",
              " ((2016, 'Curl'), 5),\n",
              " ((2018, 'MATLAB'), 5),\n",
              " ((2011, 'MATLAB'), 5),\n",
              " ((2017, 'Curl'), 5),\n",
              " ((2015, 'AWK'), 5),\n",
              " ((2013, 'Groovy'), 5),\n",
              " ((2014, 'Delphi'), 5),\n",
              " ((2015, 'Perl'), 5),\n",
              " ((2012, 'Curl'), 4),\n",
              " ((2016, 'Lua'), 4),\n",
              " ((2019, 'Delphi'), 4),\n",
              " ((2017, 'AWK'), 4),\n",
              " ((2018, 'Curl'), 4),\n",
              " ((2016, 'Haskell'), 4),\n",
              " ((2019, 'AWK'), 4),\n",
              " ((2013, 'SAS'), 4),\n",
              " ((2018, 'Perl'), 4),\n",
              " ((2011, 'ColdFusion'), 4),\n",
              " ((2012, 'XPath'), 4),\n",
              " ((2014, 'XPath'), 4),\n",
              " ((2015, 'Julia'), 4),\n",
              " ((2015, 'SAS'), 4),\n",
              " ((2017, 'Io'), 4),\n",
              " ((2011, 'ActionScript'), 4),\n",
              " ((2013, 'Haskell'), 4),\n",
              " ((2017, 'Go'), 4),\n",
              " ((2012, 'Delphi'), 4),\n",
              " ((2016, 'ColdFusion'), 4),\n",
              " ((2013, 'Curl'), 4),\n",
              " ((2014, 'Haskell'), 4),\n",
              " ((2013, 'AWK'), 4),\n",
              " ((2010, 'R'), 3),\n",
              " ((2019, 'Curl'), 3),\n",
              " ((2010, 'Perl'), 3),\n",
              " ((2018, 'AWK'), 3),\n",
              " ((2018, 'XPath'), 3),\n",
              " ((2019, 'F#'), 3),\n",
              " ((2017, 'XPath'), 3),\n",
              " ((2016, 'Io'), 3),\n",
              " ((2014, 'Curl'), 3),\n",
              " ((2010, 'AppleScript'), 3),\n",
              " ((2014, 'F#'), 3),\n",
              " ((2017, 'Delphi'), 3),\n",
              " ((2011, 'R'), 3),\n",
              " ((2012, 'Haskell'), 3),\n",
              " ((2014, 'CoffeeScript'), 3),\n",
              " ((2018, 'Dart'), 3),\n",
              " ((2018, 'Haskell'), 3),\n",
              " ((2012, 'Perl'), 3),\n",
              " ((2014, 'Lua'), 3),\n",
              " ((2015, 'Go'), 3),\n",
              " ((2017, 'Lua'), 3),\n",
              " ((2013, 'Erlang'), 3),\n",
              " ((2013, 'Dart'), 3),\n",
              " ((2010, 'Bash'), 3),\n",
              " ((2012, 'ActionScript'), 3),\n",
              " ((2017, 'Rust'), 3),\n",
              " ((2016, 'Chef'), 3),\n",
              " ((2015, 'Curl'), 3),\n",
              " ((2011, 'Scala'), 3),\n",
              " ((2016, 'Groovy'), 3),\n",
              " ((2018, 'Delphi'), 3),\n",
              " ((2019, 'Perl'), 3),\n",
              " ((2015, 'ColdFusion'), 3),\n",
              " ((2016, 'CoffeeScript'), 3),\n",
              " ((2013, 'Chef'), 2),\n",
              " ((2015, 'Racket'), 2),\n",
              " ((2017, 'F#'), 2),\n",
              " ((2013, 'FOCUS'), 2),\n",
              " ((2013, 'XPath'), 2),\n",
              " ((2016, 'CUDA'), 2),\n",
              " ((2014, 'GLSL'), 2),\n",
              " ((2015, 'Haskell'), 2),\n",
              " ((2017, 'Racket'), 2),\n",
              " ((2010, 'Haskell'), 2),\n",
              " ((2018, 'Elm'), 2),\n",
              " ((2012, 'F#'), 2),\n",
              " ((2019, 'LaTeX'), 2),\n",
              " ((2019, 'Rust'), 2),\n",
              " ((2015, 'Elixir'), 2),\n",
              " ((2011, 'Clojure'), 2),\n",
              " ((2012, 'PowerShell'), 2),\n",
              " ((2016, 'Perl'), 2),\n",
              " ((2012, 'CoffeeScript'), 2),\n",
              " ((2015, 'XPath'), 2),\n",
              " ((2016, 'Haxe'), 2),\n",
              " ((2013, 'AutoHotkey'), 2),\n",
              " ((2016, 'Delphi'), 2),\n",
              " ((2012, 'GLSL'), 2),\n",
              " ((2013, 'Lua'), 2),\n",
              " ((2014, 'AppleScript'), 2),\n",
              " ((2011, 'CUDA'), 2),\n",
              " ((2013, 'Clojure'), 2),\n",
              " ((2015, 'Coq'), 2),\n",
              " ((2012, 'Tcl'), 2),\n",
              " ((2013, 'Io'), 2),\n",
              " ((2018, 'Groovy'), 2),\n",
              " ((2014, 'Go'), 2),\n",
              " ((2013, 'CoffeeScript'), 2),\n",
              " ((2013, 'Prolog'), 2),\n",
              " ((2017, 'Kotlin'), 2),\n",
              " ((2010, 'F#'), 2),\n",
              " ((2012, 'Io'), 2),\n",
              " ((2016, 'F#'), 2),\n",
              " ((2012, 'OpenCL'), 2),\n",
              " ((2017, 'NetLogo'), 2),\n",
              " ((2014, 'CUDA'), 2),\n",
              " ((2014, 'ColdFusion'), 2),\n",
              " ((2015, 'CoffeeScript'), 2),\n",
              " ((2012, 'AWK'), 2),\n",
              " ((2013, 'ActionScript'), 1),\n",
              " ((2011, 'Scheme'), 1),\n",
              " ((2014, 'SAS'), 1),\n",
              " ((2015, 'Stata'), 1),\n",
              " ((2010, 'PowerShell'), 1),\n",
              " ((2014, 'AutoHotkey'), 1),\n",
              " ((2018, 'Ada'), 1),\n",
              " ((2015, 'CFML'), 1),\n",
              " ((2018, 'Stata'), 1),\n",
              " ((2012, 'Scilab'), 1),\n",
              " ((2012, 'FOCUS'), 1),\n",
              " ((2018, 'Id'), 1),\n",
              " ((2013, 'ML'), 1),\n",
              " ((2010, 'Mouse'), 1),\n",
              " ((2016, 'AspectJ'), 1),\n",
              " ((2011, 'Cython'), 1),\n",
              " ((2013, 'ColdFusion'), 1),\n",
              " ((2016, 'AutoHotkey'), 1),\n",
              " ((2019, 'Prolog'), 1),\n",
              " ((2019, 'NetLogo'), 1),\n",
              " ((2010, 'XPath'), 1),\n",
              " ((2013, 'Scheme'), 1),\n",
              " ((2016, 'Vala'), 1),\n",
              " ((2014, 'Clojure'), 1),\n",
              " ((2011, 'ksh'), 1),\n",
              " ((2012, 'RSL'), 1),\n",
              " ((2019, 'NSIS'), 1),\n",
              " ((2015, 'LiveCode'), 1),\n",
              " ((2017, 'Coq'), 1),\n",
              " ((2014, 'CFML'), 1),\n",
              " ((2017, 'Julia'), 1),\n",
              " ((2011, 'OCaml'), 1),\n",
              " ((2015, 'Ada'), 1),\n",
              " ((2015, 'Tcl'), 1),\n",
              " ((2015, 'OCaml'), 1),\n",
              " ((2018, 'Lua'), 1),\n",
              " ((2011, 'FOCUS'), 1),\n",
              " ((2011, 'Groovy'), 1),\n",
              " ((2015, 'Io'), 1),\n",
              " ((2019, 'NASM'), 1),\n",
              " ((2017, 'Groovy'), 1),\n",
              " ((2013, 'Processing'), 1),\n",
              " ((2016, 'FOCUS'), 1),\n",
              " ((2017, 'NSIS'), 1),\n",
              " ((2012, 'dBase'), 1),\n",
              " ((2012, 'Cython'), 1),\n",
              " ((2015, 'LotusScript'), 1),\n",
              " ((2011, 'D'), 1),\n",
              " ((2011, 'F#'), 1),\n",
              " ((2012, 'ksh'), 1),\n",
              " ((2015, 'FOCUS'), 1),\n",
              " ((2015, 'Groovy'), 1),\n",
              " ((2016, 'Stata'), 1),\n",
              " ((2016, 'SAS'), 1),\n",
              " ((2016, 'LabVIEW'), 1),\n",
              " ((2016, 'NetLogo'), 1),\n",
              " ((2016, 'BASIC'), 1),\n",
              " ((2011, 'GLSL'), 1),\n",
              " ((2012, 'CIL'), 1),\n",
              " ((2017, 'Prolog'), 1),\n",
              " ((2014, 'Tcl'), 1),\n",
              " ((2010, 'OCaml'), 1),\n",
              " ((2018, 'SAS'), 1),\n",
              " ((2012, 'Processing'), 1),\n",
              " ((2014, 'NetLogo'), 1),\n",
              " ((2015, 'Prolog'), 1),\n",
              " ((2019, 'XPath'), 1),\n",
              " ((2016, 'Alice'), 1),\n",
              " ((2013, 'CHAIN'), 1),\n",
              " ((2018, 'F#'), 1),\n",
              " ((2016, 'Tcl'), 1),\n",
              " ((2016, 'Zsh'), 1),\n",
              " ((2016, 'Prolog'), 1),\n",
              " ((2017, 'AutoHotkey'), 1),\n",
              " ((2019, 'Haskell'), 1),\n",
              " ((2017, 'Sed'), 1),\n",
              " ((2018, 'ColdFusion'), 1),\n",
              " ((2019, 'Objective-C'), 1),\n",
              " ((2015, 'CIL'), 1),\n",
              " ((2017, 'Elixir'), 1),\n",
              " ((2016, 'Octave'), 1),\n",
              " ((2010, 'ActionScript'), 1),\n",
              " ((2018, 'Perl6'), 1),\n",
              " ((2016, 'OCaml'), 1),\n",
              " ((2013, 'GLSL'), 1),\n",
              " ((2017, 'X++'), 1),\n",
              " ((2018, 'XQuery'), 1),\n",
              " ((2014, 'EGL'), 1),\n",
              " ((2016, 'Elixir'), 1),\n",
              " ((2019, 'Julia'), 1),\n",
              " ((2015, 'ABAP'), 1),\n",
              " ((2017, 'OpenCL'), 1),\n",
              " ((2015, 'Modelica'), 1),\n",
              " ((2017, 'CUDA'), 1),\n",
              " ((2012, 'Groovy'), 1),\n",
              " ((2010, 'ksh'), 1),\n",
              " ((2013, 'PostScript'), 1),\n",
              " ((2015, 'Dart'), 1),\n",
              " ((2015, 'AppleScript'), 1),\n",
              " ((2013, 'NSIS'), 1),\n",
              " ((2015, 'ksh'), 1),\n",
              " ((2015, 'XQuery'), 1),\n",
              " ((2015, 'FoxPro'), 1),\n",
              " ((2017, 'ColdFusion'), 1),\n",
              " ((2018, 'ActionScript'), 1),\n",
              " ((2017, 'AppleScript'), 1),\n",
              " ((2011, 'CoffeeScript'), 1),\n",
              " ((2016, 'NASM'), 1),\n",
              " ((2016, 'AppleScript'), 1),\n",
              " ((2019, 'LabVIEW'), 1),\n",
              " ((2010, 'Sed'), 1),\n",
              " ((2015, 'OpenCL'), 1),\n",
              " ((2016, 'Clojure'), 1),\n",
              " ((2015, 'GLSL'), 1),\n",
              " ((2010, 'MATLAB'), 1),\n",
              " ((2010, 'BASIC'), 1),\n",
              " ((2010, 'Go'), 1),\n",
              " ((2012, 'Scheme'), 1),\n",
              " ((2018, 'X++'), 1),\n",
              " ((2012, 'NASM'), 1),\n",
              " ((2017, 'Perl6'), 1),\n",
              " ((2011, 'Jython'), 1),\n",
              " ((2011, 'ABAP'), 1),\n",
              " ((2014, 'Prolog'), 1),\n",
              " ((2013, 'CUDA'), 1),\n",
              " ((2015, 'BASIC'), 1),\n",
              " ((2014, 'Erlang'), 1),\n",
              " ((2010, 'Racket'), 1),\n",
              " ((2015, 'LabVIEW'), 1),\n",
              " ((2017, 'Ada'), 1),\n",
              " ((2019, 'OCaml'), 1),\n",
              " ((2017, 'BASIC'), 1),\n",
              " ((2018, 'LaTeX'), 1),\n",
              " ((2018, 'Mouse'), 1),\n",
              " ((2018, 'Vala'), 1),\n",
              " ((2014, 'Elixir'), 1),\n",
              " ((2015, 'Processing'), 1),\n",
              " ((2013, 'Cg'), 1),\n",
              " ((2016, 'COMPASS'), 1),\n",
              " ((2010, 'dBase'), 1),\n",
              " ((2013, 'BETA'), 1),\n",
              " ((2011, 'Haskell'), 1),\n",
              " ((2014, 'Octave'), 1),\n",
              " ((2013, 'AppleScript'), 1),\n",
              " ((2014, 'Jython'), 1),\n",
              " ((2016, 'XPath'), 1),\n",
              " ((2012, 'OCaml'), 1),\n",
              " ((2014, 'XQuery'), 1),\n",
              " ((2014, 'Io'), 1),\n",
              " ((2016, 'ksh'), 1),\n",
              " ((2018, 'Chapel'), 1),\n",
              " ((2012, 'CUDA'), 1),\n",
              " ((2015, 'Lua'), 1),\n",
              " ((2014, 'Perl6'), 1),\n",
              " ((2014, 'Scheme'), 1),\n",
              " ((2016, 'LaTeX'), 1),\n",
              " ((2018, 'Julia'), 1),\n",
              " ((2014, 'Agda'), 1),\n",
              " ((2015, 'J'), 1),\n",
              " ((2015, 'ZPL'), 1),\n",
              " ((2018, 'GLSL'), 1),\n",
              " ((2018, 'Cython'), 1),\n",
              " ((2012, 'SML'), 1),\n",
              " ((2015, 'Rust'), 1),\n",
              " ((2015, 'Scheme'), 1),\n",
              " ((2011, 'Io'), 1),\n",
              " ((2011, 'SML'), 1),\n",
              " ((2013, 'Cython'), 1),\n",
              " ((2011, 'dBase'), 1),\n",
              " ((2011, 'XPath'), 1),\n",
              " ((2017, 'Octave'), 1)]"
            ]
          },
          "execution_count": 44,
          "metadata": {},
          "output_type": "execute_result"
        }
      ],
      "source": [
        "posts_language_year"
      ]
    },
    {
      "cell_type": "code",
      "execution_count": 53,
      "metadata": {
        "id": "UUtDGtetpS5G"
      },
      "outputs": [],
      "source": [
        "language_by_period = []\n",
        "years = [year for year in range(2010, 2021)]\n",
        "\n",
        "for year in years[::-1]:\n",
        "  language_by_period.extend([row for row in posts_language_year if row[0][0] == year][:10])\n",
        "\n"
      ]
    },
    {
      "cell_type": "code",
      "execution_count": 54,
      "metadata": {
        "colab": {
          "base_uri": "https://localhost:8080/"
        },
        "id": "4gsLKlJVqw5K",
        "outputId": "93acfa21-81a9-455c-ebc6-b00fdfd16a0c"
      },
      "outputs": [
        {
          "data": {
            "text/plain": [
              "[((2019, 'Python'), 162),\n",
              " ((2019, 'JavaScript'), 131),\n",
              " ((2019, 'Java'), 95),\n",
              " ((2019, 'PHP'), 59),\n",
              " ((2019, 'R'), 36),\n",
              " ((2019, 'C'), 14),\n",
              " ((2019, 'Go'), 9),\n",
              " ((2019, 'Dart'), 9),\n",
              " ((2019, 'MATLAB'), 9),\n",
              " ((2019, 'Ruby'), 8),\n",
              " ((2018, 'Python'), 214),\n",
              " ((2018, 'JavaScript'), 196),\n",
              " ((2018, 'Java'), 145),\n",
              " ((2018, 'PHP'), 99),\n",
              " ((2018, 'R'), 63),\n",
              " ((2018, 'C'), 24),\n",
              " ((2018, 'Scala'), 22),\n",
              " ((2018, 'TypeScript'), 21),\n",
              " ((2018, 'PowerShell'), 13),\n",
              " ((2018, 'Bash'), 12),\n",
              " ((2017, 'JavaScript'), 244),\n",
              " ((2017, 'Java'), 204),\n",
              " ((2017, 'Python'), 185),\n",
              " ((2017, 'PHP'), 122),\n",
              " ((2017, 'R'), 53),\n",
              " ((2017, 'C'), 24),\n",
              " ((2017, 'Objective-C'), 19),\n",
              " ((2017, 'Ruby'), 16),\n",
              " ((2017, 'PowerShell'), 14),\n",
              " ((2017, 'TypeScript'), 14),\n",
              " ((2016, 'JavaScript'), 272),\n",
              " ((2016, 'Java'), 179),\n",
              " ((2016, 'Python'), 141),\n",
              " ((2016, 'PHP'), 126),\n",
              " ((2016, 'R'), 50),\n",
              " ((2016, 'C'), 32),\n",
              " ((2016, 'Ruby'), 21),\n",
              " ((2016, 'Scala'), 16),\n",
              " ((2016, 'Bash'), 16),\n",
              " ((2016, 'MATLAB'), 15),\n",
              " ((2015, 'JavaScript'), 270),\n",
              " ((2015, 'Java'), 208),\n",
              " ((2015, 'PHP'), 147),\n",
              " ((2015, 'Python'), 119),\n",
              " ((2015, 'R'), 43),\n",
              " ((2015, 'C'), 38),\n",
              " ((2015, 'Objective-C'), 30),\n",
              " ((2015, 'Ruby'), 21),\n",
              " ((2015, 'MATLAB'), 16),\n",
              " ((2015, 'Scala'), 13),\n",
              " ((2014, 'JavaScript'), 235),\n",
              " ((2014, 'Java'), 228),\n",
              " ((2014, 'PHP'), 154),\n",
              " ((2014, 'Python'), 103),\n",
              " ((2014, 'C'), 52),\n",
              " ((2014, 'Objective-C'), 49),\n",
              " ((2014, 'R'), 28),\n",
              " ((2014, 'Ruby'), 20),\n",
              " ((2014, 'MATLAB'), 16),\n",
              " ((2014, 'Bash'), 13),\n",
              " ((2013, 'JavaScript'), 196),\n",
              " ((2013, 'Java'), 191),\n",
              " ((2013, 'PHP'), 173),\n",
              " ((2013, 'Python'), 87),\n",
              " ((2013, 'Objective-C'), 40),\n",
              " ((2013, 'C'), 36),\n",
              " ((2013, 'Ruby'), 30),\n",
              " ((2013, 'R'), 25),\n",
              " ((2013, 'Bash'), 11),\n",
              " ((2013, 'Scala'), 10),\n",
              " ((2012, 'PHP'), 136),\n",
              " ((2012, 'JavaScript'), 129),\n",
              " ((2012, 'Java'), 124),\n",
              " ((2012, 'Python'), 65),\n",
              " ((2012, 'Objective-C'), 45),\n",
              " ((2012, 'C'), 27),\n",
              " ((2012, 'Ruby'), 25),\n",
              " ((2012, 'Bash'), 9),\n",
              " ((2012, 'R'), 9),\n",
              " ((2012, 'MATLAB'), 6),\n",
              " ((2011, 'PHP'), 97),\n",
              " ((2011, 'Java'), 92),\n",
              " ((2011, 'JavaScript'), 82),\n",
              " ((2011, 'Python'), 35),\n",
              " ((2011, 'Objective-C'), 33),\n",
              " ((2011, 'C'), 24),\n",
              " ((2011, 'Ruby'), 17),\n",
              " ((2011, 'Delphi'), 8),\n",
              " ((2011, 'Perl'), 8),\n",
              " ((2011, 'Bash'), 7),\n",
              " ((2010, 'Java'), 52),\n",
              " ((2010, 'JavaScript'), 44),\n",
              " ((2010, 'PHP'), 42),\n",
              " ((2010, 'Python'), 25),\n",
              " ((2010, 'Objective-C'), 23),\n",
              " ((2010, 'C'), 20),\n",
              " ((2010, 'Ruby'), 11),\n",
              " ((2010, 'Delphi'), 7),\n",
              " ((2010, 'R'), 3),\n",
              " ((2010, 'Perl'), 3)]"
            ]
          },
          "execution_count": 54,
          "metadata": {},
          "output_type": "execute_result"
        }
      ],
      "source": [
        "language_by_period"
      ]
    },
    {
      "cell_type": "code",
      "execution_count": 57,
      "metadata": {
        "colab": {
          "base_uri": "https://localhost:8080/"
        },
        "id": "94R9jzNHsH07",
        "outputId": "bc97517b-6d5d-4d55-d44a-77e1a5ba3ee7"
      },
      "outputs": [
        {
          "name": "stdout",
          "output_type": "stream",
          "text": [
            "+----+----------+-----+\n",
            "|Year|  Language|Count|\n",
            "+----+----------+-----+\n",
            "|2019|    Python|  162|\n",
            "|2019|JavaScript|  131|\n",
            "|2019|      Java|   95|\n",
            "|2019|       PHP|   59|\n",
            "|2019|         R|   36|\n",
            "|2019|         C|   14|\n",
            "|2019|        Go|    9|\n",
            "|2019|      Dart|    9|\n",
            "|2019|    MATLAB|    9|\n",
            "|2019|      Ruby|    8|\n",
            "|2018|    Python|  214|\n",
            "|2018|JavaScript|  196|\n",
            "|2018|      Java|  145|\n",
            "|2018|       PHP|   99|\n",
            "|2018|         R|   63|\n",
            "|2018|         C|   24|\n",
            "|2018|     Scala|   22|\n",
            "|2018|TypeScript|   21|\n",
            "|2018|PowerShell|   13|\n",
            "|2018|      Bash|   12|\n",
            "+----+----------+-----+\n",
            "only showing top 20 rows\n",
            "\n"
          ]
        }
      ],
      "source": [
        "from pyspark.sql import Row\n",
        "row = Row('Year','Language','Count')\n",
        "df=spark.createDataFrame([row(*x, y) for x, y in language_by_period])\n",
        "df.show()"
      ]
    },
    {
      "cell_type": "markdown",
      "metadata": {
        "id": "oijxPPRyhjax"
      },
      "source": [
        "### 2.Получившийся отчёт сохранить в формате Apache Parquet."
      ]
    },
    {
      "cell_type": "code",
      "execution_count": 60,
      "metadata": {
        "colab": {
          "base_uri": "https://localhost:8080/"
        },
        "id": "H4LUMP0qhjax",
        "outputId": "14db430b-8d6c-4160-e9e9-1619a88dabe8"
      },
      "outputs": [
        {
          "name": "stdout",
          "output_type": "stream",
          "text": [
            "Drive already mounted at /content/drive; to attempt to forcibly remount, call drive.mount(\"/content/drive\", force_remount=True).\n"
          ]
        }
      ],
      "source": [
        "from google.colab import drive\n",
        "drive.mount('/content/drive')\n",
        "\n",
        "# Получившийся отчёт сохранить в формате Apache Parquet\n",
        "df.write.parquet(\"/Colab Notebooks/top_languages.parquet\")"
      ]
    }
  ],
  "metadata": {
    "colab": {
      "provenance": []
    },
    "kernelspec": {
      "display_name": "Python 3",
      "language": "python",
      "name": "python3"
    },
    "language_info": {
      "codemirror_mode": {
        "name": "ipython",
        "version": 3
      },
      "file_extension": ".py",
      "mimetype": "text/x-python",
      "name": "python",
      "nbconvert_exporter": "python",
      "pygments_lexer": "ipython3",
      "version": "3.10.8"
    }
  },
  "nbformat": 4,
  "nbformat_minor": 0
}
